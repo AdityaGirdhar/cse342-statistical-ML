{
 "cells": [
  {
   "cell_type": "markdown",
   "id": "386eb923",
   "metadata": {},
   "source": [
    "### Importing necessary files"
   ]
  },
  {
   "cell_type": "code",
   "execution_count": 97,
   "id": "2e1977e7",
   "metadata": {},
   "outputs": [],
   "source": [
    "import os\n",
    "import numpy as np\n",
    "import matplotlib.pyplot as plt\n",
    "from PIL import Image\n",
    "\n",
    "from custom_pca import PCA\n",
    "\n",
    "%matplotlib inline"
   ]
  },
  {
   "cell_type": "code",
   "execution_count": 124,
   "id": "0317f1ba",
   "metadata": {},
   "outputs": [],
   "source": [
    "def func(path):\n",
    "    images = []\n",
    "    for filename in os.listdir(path):\n",
    "        img = Image.open(os.path.join(path, filename))\n",
    "        images.append(np.array(img).reshape(-1))\n",
    "    return np.array(images)"
   ]
  },
  {
   "cell_type": "code",
   "execution_count": 125,
   "id": "1a2e9e17",
   "metadata": {},
   "outputs": [],
   "source": [
    "images = func('archive/trainingSet/trainingSet/0')"
   ]
  },
  {
   "cell_type": "code",
   "execution_count": 126,
   "id": "4800c481",
   "metadata": {},
   "outputs": [
    {
     "name": "stdout",
     "output_type": "stream",
     "text": [
      "(4132, 784)\n"
     ]
    }
   ],
   "source": [
    "# Run this cell to import trainingSet images to trainingSet array\n",
    "for var in range(1,10):\n",
    "    path = 'archive/trainingSet/trainingSet/' + str(var)\n",
    "    images = np.append(images, func(path))\n",
    "    \n",
    "print(images.shape)"
   ]
  },
  {
   "cell_type": "code",
   "execution_count": null,
   "id": "21b6ebc8",
   "metadata": {},
   "outputs": [],
   "source": []
  }
 ],
 "metadata": {
  "kernelspec": {
   "display_name": "Python 3 (ipykernel)",
   "language": "python",
   "name": "python3"
  },
  "language_info": {
   "codemirror_mode": {
    "name": "ipython",
    "version": 3
   },
   "file_extension": ".py",
   "mimetype": "text/x-python",
   "name": "python",
   "nbconvert_exporter": "python",
   "pygments_lexer": "ipython3",
   "version": "3.10.5"
  },
  "vscode": {
   "interpreter": {
    "hash": "397704579725e15f5c7cb49fe5f0341eb7531c82d19f2c29d197e8b64ab5776b"
   }
  }
 },
 "nbformat": 4,
 "nbformat_minor": 5
}
