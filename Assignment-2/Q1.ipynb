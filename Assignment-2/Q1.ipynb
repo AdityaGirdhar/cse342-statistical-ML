{
 "cells": [
  {
   "cell_type": "markdown",
   "id": "07eeb314",
   "metadata": {},
   "source": [
    "### Importing libraries and 'glass.csv' to a numpy array"
   ]
  },
  {
   "cell_type": "code",
   "execution_count": null,
   "id": "99e1ad49",
   "metadata": {},
   "outputs": [],
   "source": [
    "import numpy as np\n",
    "import pandas as pd\n",
    "from sklearn.neighbors import KNeighborsClassifier\n",
    "import math\n",
    "\n",
    "# Importing Heart.csv to a numpy array\n",
    "data = pd.read_csv(\"glass.csv\").to_numpy()\n",
    "X, y = data[:,:9], data[:,9]"
   ]
  },
  {
   "cell_type": "markdown",
   "id": "c467962e",
   "metadata": {},
   "source": [
    "### Defining custom functions"
   ]
  },
  {
   "cell_type": "code",
   "execution_count": 2,
   "id": "d60fe7d2",
   "metadata": {},
   "outputs": [],
   "source": [
    "def mahalanobis(inv_cov, X1, X2):\n",
    "    diff = X1 - X2\n",
    "    return np.sqrt(np.dot(np.dot(diff, inv_cov), diff.T))\n",
    "\n",
    "def lrd(reach_matrix, neigh_dist):\n",
    "    lrd_matrix = np.zeros((214))\n",
    "    for i in range(214):\n",
    "        sum = 0\n",
    "        for j in range(1,3):\n",
    "            sum += reach_matrix[i, neigh_dist[1][i,j]]\n",
    "        lrd_matrix[i] = 2/sum\n",
    "    return lrd_matrix\n",
    "  \n",
    "def lof(lrd_matrix, neigh_dist):\n",
    "    lof_matrix = np.zeros((214))\n",
    "    for i in range(214):\n",
    "        sum = 0\n",
    "        for j in range(1,3):\n",
    "            sum += lrd_matrix[neigh_dist[1][i,j]]\n",
    "        sum = sum/lrd_matrix[i]\n",
    "        sum /= 2\n",
    "        lof_matrix[i] = sum\n",
    "    return lof_matrix"
   ]
  },
  {
   "cell_type": "code",
   "execution_count": 3,
   "id": "9e161dde",
   "metadata": {},
   "outputs": [],
   "source": [
    "cov = np.cov(X.T)\n",
    "inv_cov = np.linalg.inv(cov)\n",
    "mu = np.mean(X, axis=0)\n",
    "mahalanobis_dist = np.zeros((214))\n",
    "\n",
    "for i in range(214):\n",
    "    mahalanobis_dist[i] = mahalanobis(inv_cov, X[i], mu)"
   ]
  },
  {
   "cell_type": "code",
   "execution_count": 4,
   "id": "60be7e5e",
   "metadata": {},
   "outputs": [],
   "source": [
    "knn = KNeighborsClassifier(n_neighbors=3)\n",
    "knn.fit(X, y)\n",
    "\n",
    "neigh_dist = knn.kneighbors(X)\n",
    "\n",
    "reach_matrix = np.zeros((214,214))\n",
    "\n",
    "for i in range(214):\n",
    "    for j in range(214):\n",
    "        reach_matrix[i,j] = max(neigh_dist[0][i,2], np.linalg.norm(X[i]-X[j]))\n",
    "        \n",
    "lrd_matrix = lrd(reach_matrix, neigh_dist)\n",
    "lof_matrix = lof(lrd_matrix, neigh_dist)\n",
    "\n",
    "lof_matrix_sorted = sorted(lof_matrix)\n",
    "mahalanobis_sorted = sorted(mahalanobis_dist)"
   ]
  },
  {
   "cell_type": "code",
   "execution_count": 5,
   "id": "95ad67fc",
   "metadata": {},
   "outputs": [],
   "source": [
    "val1 = 0\n",
    "val2 = np.sum(lof_matrix_sorted)\n",
    "\n",
    "sigma_w_lof = []\n",
    "sigma_w_mahalanobis = []\n",
    "\n",
    "for i in range(213):\n",
    "    w0 = i/214\n",
    "    w1 = 1 - w0\n",
    "    \n",
    "    val1 += lof_matrix_sorted[i]\n",
    "    val2 -= lof_matrix_sorted[i]\n",
    "    \n",
    "    avg1 = val1/(i+1)\n",
    "    avg2 = val2/(213-i)\n",
    "    \n",
    "    # Otsu thresholding using LOF\n",
    "    \n",
    "    var1 = 0\n",
    "    var2 = 0\n",
    "    \n",
    "    for j in range(i+1):\n",
    "        var1 += (lof_matrix_sorted[j]-avg1)*(lof_matrix_sorted[j]-avg1)\n",
    "    var1 /= (i+1)\n",
    "    \n",
    "    for j in range(i+1, 214):\n",
    "        var2 += (lof_matrix_sorted[j]-avg2)*(lof_matrix_sorted[j]-avg2)\n",
    "    var2 /= (213-i)\n",
    "    \n",
    "    sigma_w_lof.append(w0*var1 + w1*var2)\n",
    "    \n",
    "    # Otsu thresholding using Mahalanobis distance\n",
    "    \n",
    "    var1 = 0\n",
    "    var2 = 0\n",
    "    \n",
    "    for j in range(i+1):\n",
    "        var1 += (mahalanobis_sorted[j]-avg1)*(mahalanobis_sorted[j]-avg1)\n",
    "    var1 /= (i+1)\n",
    "    \n",
    "    for j in range(i+1, 214):\n",
    "        var2 += (mahalanobis_sorted[j]-avg2)*(mahalanobis_sorted[j]-avg2)\n",
    "    var2 /= (213-i)\n",
    "    \n",
    "    sigma_w_mahalanobis.append(w0*var1 + w1*var2)\n"
   ]
  },
  {
   "cell_type": "markdown",
   "id": "fd6d343e",
   "metadata": {},
   "source": [
    "### Number of outliers when Otsu Thresholding is performed on LOF values"
   ]
  },
  {
   "cell_type": "code",
   "execution_count": 6,
   "id": "79a04c3c",
   "metadata": {},
   "outputs": [
    {
     "data": {
      "text/plain": [
       "2"
      ]
     },
     "execution_count": 6,
     "metadata": {},
     "output_type": "execute_result"
    }
   ],
   "source": [
    "outliers_lof = 214 - sigma_w_lof.index(sorted(sigma_w_lof)[0])\n",
    "outliers_lof\n",
    "# comes out to be 2"
   ]
  },
  {
   "cell_type": "markdown",
   "id": "7fa4c033",
   "metadata": {},
   "source": [
    "### Number of outliers when Otsu Thresholding is performed on Mahalanobis values"
   ]
  },
  {
   "cell_type": "code",
   "execution_count": 7,
   "id": "3eabc922",
   "metadata": {},
   "outputs": [
    {
     "data": {
      "text/plain": [
       "18"
      ]
     },
     "execution_count": 7,
     "metadata": {},
     "output_type": "execute_result"
    }
   ],
   "source": [
    "outliers_mahalanobis = 214 - sigma_w_mahalanobis.index(sorted(sigma_w_mahalanobis)[0])\n",
    "outliers_mahalanobis\n",
    "# comes out to be 18"
   ]
  }
 ],
 "metadata": {
  "kernelspec": {
   "display_name": "Python 3 (ipykernel)",
   "language": "python",
   "name": "python3"
  },
  "language_info": {
   "codemirror_mode": {
    "name": "ipython",
    "version": 3
   },
   "file_extension": ".py",
   "mimetype": "text/x-python",
   "name": "python",
   "nbconvert_exporter": "python",
   "pygments_lexer": "ipython3",
   "version": "3.10.9"
  }
 },
 "nbformat": 4,
 "nbformat_minor": 5
}
