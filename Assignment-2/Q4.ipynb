{
 "cells": [
  {
   "cell_type": "markdown",
   "id": "6dc95519",
   "metadata": {},
   "source": [
    "## Importing necessary libraries and loading our data into a numpy array\n",
    "As KNN, data-scaling and importing datasets has already been covered in previous assignments, I will be importing sklearn modules for those functionalities.\n",
    "\n",
    "Linear Discriminant Analysis has been implemented from scratch."
   ]
  },
  {
   "cell_type": "code",
   "execution_count": 1,
   "id": "08817341",
   "metadata": {},
   "outputs": [],
   "source": [
    "from sklearn import neighbors, datasets, preprocessing\n",
    "from sklearn.model_selection import train_test_split\n",
    "from sklearn.metrics import accuracy_score\n",
    "import matplotlib.pyplot as plt\n",
    "import numpy as np\n",
    "\n",
    "data = datasets.load_iris()"
   ]
  },
  {
   "cell_type": "markdown",
   "id": "4caf9399",
   "metadata": {},
   "source": [
    "### Implement custom LDA class"
   ]
  },
  {
   "cell_type": "code",
   "execution_count": 2,
   "id": "3d420d8a",
   "metadata": {},
   "outputs": [],
   "source": [
    "class LinearDiscriminantAnalysis:\n",
    "    def __init__(self, num_classes):\n",
    "        self.eigenvectors = None\n",
    "        self.num_classes = None\n",
    "        if (num_classes is not None):\n",
    "            self.num_classes = num_classes\n",
    "    \n",
    "    def process(self, data, labels):\n",
    "        cov_w = 0\n",
    "        height, width = data.shape\n",
    "        cov_t = np.cov(data.T)*(height-1)\n",
    "        \n",
    "        uc = np.unique(labels)\n",
    "        n_unique = len(uc)\n",
    "        \n",
    "        for i in range(0, n_unique):\n",
    "            cov_items = np.flatnonzero(uc[i] == labels)\n",
    "            cov_w += (len(cov_items)-1) * np.cov(data[cov_items].T)\n",
    "        \n",
    "        cov_b = cov_t - cov_w\n",
    "        pinv_dot = np.linalg.pinv(cov_w).dot(cov_b)\n",
    "        dump, eigenvectors = np.linalg.eigh(pinv_dot)\n",
    "        \n",
    "        # print(eigenvectors.shape)\n",
    "        \n",
    "        principal = data.dot(eigenvectors[:,::-1][:,:self.num_classes])\n",
    "        \n",
    "        # print(principal.shape)\n",
    "        \n",
    "        if self.num_classes == 2:\n",
    "            if labels is not None:\n",
    "                unique_labels = np.unique(labels)\n",
    "                zip_dict = zip(['m', 'y', 'c'], unique_labels)\n",
    "                for clr, lbl in zip_dict:\n",
    "                    flat_ids = np.flatnonzero(labels==lbl)\n",
    "                    c_data = principal[flat_ids]\n",
    "                    argX = c_data[:,0]\n",
    "                    argY = c_data[:,1]\n",
    "                    plt.scatter(argX, argY, c=clr)\n",
    "            else:\n",
    "                plt.scatter(principal[:,0], principal[:,1])\n",
    "            plt.show()\n",
    "        \n",
    "        return principal"
   ]
  },
  {
   "cell_type": "markdown",
   "id": "0c784a5a",
   "metadata": {},
   "source": [
    "### Pre-processing our data\n",
    "Here, I have split the data into a 70:30 train:test split. Two datasets have been prepared, one without LDA and one with LDA (X_train and X_train_modified). All data used has been normalised."
   ]
  },
  {
   "cell_type": "code",
   "execution_count": 3,
   "id": "3c1f5fbb",
   "metadata": {},
   "outputs": [
    {
     "name": "stdout",
     "output_type": "stream",
     "text": [
      "Accuracy score with LDA:    0.9777777777777777\n",
      "Accuracy score without LDA: 0.9555555555555556\n"
     ]
    }
   ],
   "source": [
    "y, X = data.target, data.data[:, :]\n",
    "X_train, X_test, y_train, y_test = train_test_split(X, y, train_size = 0.7, random_state = 31)\n",
    "\n",
    "scaler = preprocessing.StandardScaler().fit(X_train)\n",
    "LDA = LinearDiscriminantAnalysis(num_classes=3)\n",
    "\n",
    "X_train, X_test = scaler.transform(X_train), scaler.transform(X_test)\n",
    "X_train_modified, X_test_modified = LDA.process(X_train, y_train), LDA.process(X_test, y_test)\n",
    "\n",
    "## TESTING ACCURACY ##\n",
    "\n",
    "knn = neighbors.KNeighborsClassifier(n_neighbors=5)\n",
    "knn.fit(X_train_modified, y_train)\n",
    "y_predicted_lda = knn.predict(X_test_modified)\n",
    "print(\"Accuracy score with LDA:   \", accuracy_score(y_test, y_predicted_lda))\n",
    "\n",
    "knn = neighbors.KNeighborsClassifier(n_neighbors=5)\n",
    "knn.fit(X_train, y_train)\n",
    "y_predicted = knn.predict(X_test)\n",
    "print(\"Accuracy score without LDA:\", accuracy_score(y_test, y_predicted))\n",
    "\n",
    "# Accuracy score comes out to be:\n",
    "# 0.977 when using LDA and\n",
    "# 0.955 when not using LDA"
   ]
  }
 ],
 "metadata": {
  "kernelspec": {
   "display_name": "Python 3 (ipykernel)",
   "language": "python",
   "name": "python3"
  },
  "language_info": {
   "codemirror_mode": {
    "name": "ipython",
    "version": 3
   },
   "file_extension": ".py",
   "mimetype": "text/x-python",
   "name": "python",
   "nbconvert_exporter": "python",
   "pygments_lexer": "ipython3",
   "version": "3.10.9"
  }
 },
 "nbformat": 4,
 "nbformat_minor": 5
}
